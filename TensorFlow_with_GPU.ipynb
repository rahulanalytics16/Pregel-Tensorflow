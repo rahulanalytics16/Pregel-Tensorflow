{
  "nbformat": 4,
  "nbformat_minor": 0,
  "metadata": {
    "colab": {
      "name": "TensorFlow with GPU",
      "version": "0.3.2",
      "provenance": [],
      "collapsed_sections": [],
      "toc_visible": true,
      "include_colab_link": true
    },
    "kernelspec": {
      "name": "python3",
      "display_name": "Python 3"
    },
    "accelerator": "GPU"
  },
  "cells": [
    {
      "cell_type": "markdown",
      "metadata": {
        "id": "view-in-github",
        "colab_type": "text"
      },
      "source": [
        "[View in Colaboratory](https://colab.research.google.com/github/rahulanalytics16/Pregel-Tensorflow/blob/master/TensorFlow_with_GPU.ipynb)"
      ]
    },
    {
      "metadata": {
        "id": "c0JUP7_zZ9LE",
        "colab_type": "code",
        "colab": {
          "base_uri": "https://localhost:8080/",
          "height": 102
        },
        "outputId": "0ad0c41b-a9e5-4219-a5e5-a2ad2b2e9785"
      },
      "cell_type": "code",
      "source": [
        "!git clone https://github.com/shagunsodhani/pregel"
      ],
      "execution_count": 1,
      "outputs": [
        {
          "output_type": "stream",
          "text": [
            "Cloning into 'pregel'...\n",
            "remote: Counting objects: 434, done.\u001b[K\n",
            "remote: Total 434 (delta 0), reused 0 (delta 0), pack-reused 434\u001b[K\n",
            "Receiving objects: 100% (434/434), 5.32 MiB | 22.50 MiB/s, done.\n",
            "Resolving deltas: 100% (217/217), done.\n"
          ],
          "name": "stdout"
        }
      ]
    },
    {
      "metadata": {
        "id": "diBZgtz5aAr7",
        "colab_type": "code",
        "colab": {}
      },
      "cell_type": "code",
      "source": [
        "!cd pregel"
      ],
      "execution_count": 0,
      "outputs": []
    },
    {
      "metadata": {
        "id": "OqTO6mlPaGCI",
        "colab_type": "code",
        "colab": {
          "base_uri": "https://localhost:8080/",
          "height": 68
        },
        "outputId": "2148f19f-48ab-4f20-83e1-02a34bb9a1a1"
      },
      "cell_type": "code",
      "source": [
        "!ls -l"
      ],
      "execution_count": 3,
      "outputs": [
        {
          "output_type": "stream",
          "text": [
            "total 8\r\n",
            "drwxr-xr-x 5 root root 4096 Sep  3 12:28 pregel\r\n",
            "drwxr-xr-x 2 root root 4096 Aug 30 21:39 sample_data\r\n"
          ],
          "name": "stdout"
        }
      ]
    },
    {
      "metadata": {
        "id": "fsQuG48EaHvC",
        "colab_type": "code",
        "colab": {
          "base_uri": "https://localhost:8080/",
          "height": 1754
        },
        "outputId": "be52177b-508d-4bca-a1e5-072e03f28d2a"
      },
      "cell_type": "code",
      "source": [
        "!pip install -r pregel/requirements.txt"
      ],
      "execution_count": 1,
      "outputs": [
        {
          "output_type": "stream",
          "text": [
            "Collecting tensorflow==1.4 (from -r pregel/requirements.txt (line 1))\n",
            "\u001b[?25l  Downloading https://files.pythonhosted.org/packages/86/9f/be0165c6eefd841e6928e54d3d083fa174f92d640fdc52f73a33dc9c54d1/tensorflow-1.4.0-cp36-cp36m-manylinux1_x86_64.whl (41.2MB)\n",
            "\u001b[K    100% |████████████████████████████████| 41.2MB 930kB/s \n",
            "\u001b[?25hCollecting tensorflow-gpu==1.4 (from -r pregel/requirements.txt (line 2))\n",
            "\u001b[?25l  Downloading https://files.pythonhosted.org/packages/08/47/bc3ccd2ecae8f9f18a93c683a66339714090a36e1b69307787fb28e72e2b/tensorflow_gpu-1.4.0-cp36-cp36m-manylinux1_x86_64.whl (170.3MB)\n",
            "\u001b[K    100% |████████████████████████████████| 170.3MB 171kB/s \n",
            "\u001b[?25hCollecting networkx==2.0 (from -r pregel/requirements.txt (line 3))\n",
            "  Using cached https://files.pythonhosted.org/packages/73/58/0add7d81cf64958f7a062aa287237364eb0a0959bf7a817f708d5c25d043/networkx-2.0.zip\n",
            "Collecting numpy==1.13 (from -r pregel/requirements.txt (line 4))\n",
            "\u001b[?25l  Downloading https://files.pythonhosted.org/packages/f8/ce/70cbaf09bdba60b624bb609fa53f7c4e2a0ea4b3c24132e934274d596121/numpy-1.13.0-cp36-cp36m-manylinux1_x86_64.whl (17.0MB)\n",
            "\u001b[K    100% |████████████████████████████████| 17.0MB 1.7MB/s \n",
            "\u001b[?25hCollecting scipy==1.0.0 (from -r pregel/requirements.txt (line 5))\n",
            "\u001b[?25l  Downloading https://files.pythonhosted.org/packages/d8/5e/caa01ba7be11600b6a9d39265440d7b3be3d69206da887c42bef049521f2/scipy-1.0.0-cp36-cp36m-manylinux1_x86_64.whl (50.0MB)\n",
            "\u001b[K    100% |████████████████████████████████| 50.0MB 586kB/s \n",
            "\u001b[?25hCollecting scikit-learn==0.19 (from -r pregel/requirements.txt (line 6))\n",
            "\u001b[?25l  Downloading https://files.pythonhosted.org/packages/a4/b3/209652a5d60ce4a2a8a35ad893d7565bbb0f87ce043264ba5c9e7de304cd/scikit_learn-0.19.0-cp36-cp36m-manylinux1_x86_64.whl (12.4MB)\n",
            "\u001b[K    100% |████████████████████████████████| 12.4MB 3.0MB/s \n",
            "\u001b[?25hCollecting matplotlib==2.1.0 (from -r pregel/requirements.txt (line 7))\n",
            "\u001b[?25l  Downloading https://files.pythonhosted.org/packages/b2/9c/fcc9cfbf2454d93be66a615657cda4184954b4b67b9fc07c8511ff152b8f/matplotlib-2.1.0-cp36-cp36m-manylinux1_x86_64.whl (15.0MB)\n",
            "\u001b[K    100% |████████████████████████████████| 15.0MB 2.1MB/s \n",
            "\u001b[?25hCollecting seaborn==0.8.0 (from -r pregel/requirements.txt (line 8))\n",
            "\u001b[?25l  Downloading https://files.pythonhosted.org/packages/d6/13/dd3da2cd6e03e522bbd389735d3adcb47d7a4470a968ebc3348fbac8eddd/seaborn-0.8.tar.gz (178kB)\n",
            "\u001b[K    100% |████████████████████████████████| 184kB 23.3MB/s \n",
            "\u001b[?25hCollecting sacred==0.7 (from -r pregel/requirements.txt (line 9))\n",
            "\u001b[?25l  Downloading https://files.pythonhosted.org/packages/68/d9/bcf5c7152b86edd2ab1750101896f72ef120385173aa4e1eca8fa6574c1b/sacred-0.7.0-py2.py3-none-any.whl (75kB)\n",
            "\u001b[K    100% |████████████████████████████████| 81kB 17.4MB/s \n",
            "\u001b[?25hRequirement already satisfied: protobuf>=3.3.0 in /usr/local/lib/python3.6/dist-packages (from tensorflow==1.4->-r pregel/requirements.txt (line 1)) (3.6.1)\n",
            "Collecting enum34>=1.1.6 (from tensorflow==1.4->-r pregel/requirements.txt (line 1))\n",
            "  Downloading https://files.pythonhosted.org/packages/af/42/cb9355df32c69b553e72a2e28daee25d1611d2c0d9c272aa1d34204205b2/enum34-1.1.6-py3-none-any.whl\n",
            "Requirement already satisfied: six>=1.10.0 in /usr/local/lib/python3.6/dist-packages (from tensorflow==1.4->-r pregel/requirements.txt (line 1)) (1.11.0)\n",
            "Requirement already satisfied: wheel>=0.26 in /usr/local/lib/python3.6/dist-packages (from tensorflow==1.4->-r pregel/requirements.txt (line 1)) (0.31.1)\n",
            "Collecting tensorflow-tensorboard<0.5.0,>=0.4.0rc1 (from tensorflow==1.4->-r pregel/requirements.txt (line 1))\n",
            "\u001b[?25l  Downloading https://files.pythonhosted.org/packages/e9/9f/5845c18f9df5e7ea638ecf3a272238f0e7671e454faa396b5188c6e6fc0a/tensorflow_tensorboard-0.4.0-py3-none-any.whl (1.7MB)\n",
            "\u001b[K    100% |████████████████████████████████| 1.7MB 4.8MB/s \n",
            "\u001b[?25hRequirement already satisfied: decorator>=4.1.0 in /usr/local/lib/python3.6/dist-packages (from networkx==2.0->-r pregel/requirements.txt (line 3)) (4.3.0)\n",
            "Requirement already satisfied: pyparsing!=2.0.4,!=2.1.2,!=2.1.6,>=2.0.1 in /usr/local/lib/python3.6/dist-packages (from matplotlib==2.1.0->-r pregel/requirements.txt (line 7)) (2.2.0)\n",
            "Requirement already satisfied: pytz in /usr/local/lib/python3.6/dist-packages (from matplotlib==2.1.0->-r pregel/requirements.txt (line 7)) (2018.5)\n",
            "Requirement already satisfied: cycler>=0.10 in /usr/local/lib/python3.6/dist-packages (from matplotlib==2.1.0->-r pregel/requirements.txt (line 7)) (0.10.0)\n",
            "Requirement already satisfied: python-dateutil>=2.0 in /usr/local/lib/python3.6/dist-packages (from matplotlib==2.1.0->-r pregel/requirements.txt (line 7)) (2.5.3)\n",
            "Collecting docopt<1.0,>=0.3 (from sacred==0.7->-r pregel/requirements.txt (line 9))\n",
            "  Downloading https://files.pythonhosted.org/packages/a2/55/8f8cab2afd404cf578136ef2cc5dfb50baa1761b68c9da1fb1e4eed343c9/docopt-0.6.2.tar.gz\n",
            "Collecting munch<3.0,>=2.0.2 (from sacred==0.7->-r pregel/requirements.txt (line 9))\n",
            "  Downloading https://files.pythonhosted.org/packages/68/f4/260ec98ea840757a0da09e0ed8135333d59b8dfebe9752a365b04857660a/munch-2.3.2.tar.gz\n",
            "Collecting jsonpickle<1.0,>=0.7.2 (from sacred==0.7->-r pregel/requirements.txt (line 9))\n",
            "\u001b[?25l  Downloading https://files.pythonhosted.org/packages/32/d5/2f47f03d3f64c31b0d7070b488274631d7567c36e81a9f744e6638bb0f0d/jsonpickle-0.9.6.tar.gz (67kB)\n",
            "\u001b[K    100% |████████████████████████████████| 71kB 17.6MB/s \n",
            "\u001b[?25hCollecting wrapt<2.0,>=1.0 (from sacred==0.7->-r pregel/requirements.txt (line 9))\n",
            "  Downloading https://files.pythonhosted.org/packages/a0/47/66897906448185fcb77fc3c2b1bc20ed0ecca81a0f2f88eda3fc5a34fc3d/wrapt-1.10.11.tar.gz\n",
            "Requirement already satisfied: setuptools in /usr/local/lib/python3.6/dist-packages (from protobuf>=3.3.0->tensorflow==1.4->-r pregel/requirements.txt (line 1)) (39.1.0)\n",
            "Requirement already satisfied: werkzeug>=0.11.10 in /usr/local/lib/python3.6/dist-packages (from tensorflow-tensorboard<0.5.0,>=0.4.0rc1->tensorflow==1.4->-r pregel/requirements.txt (line 1)) (0.14.1)\n",
            "Collecting html5lib==0.9999999 (from tensorflow-tensorboard<0.5.0,>=0.4.0rc1->tensorflow==1.4->-r pregel/requirements.txt (line 1))\n",
            "\u001b[?25l  Downloading https://files.pythonhosted.org/packages/ae/ae/bcb60402c60932b32dfaf19bb53870b29eda2cd17551ba5639219fb5ebf9/html5lib-0.9999999.tar.gz (889kB)\n",
            "\u001b[K    100% |████████████████████████████████| 890kB 3.1MB/s \n",
            "\u001b[?25hCollecting bleach==1.5.0 (from tensorflow-tensorboard<0.5.0,>=0.4.0rc1->tensorflow==1.4->-r pregel/requirements.txt (line 1))\n",
            "  Downloading https://files.pythonhosted.org/packages/33/70/86c5fec937ea4964184d4d6c4f0b9551564f821e1c3575907639036d9b90/bleach-1.5.0-py2.py3-none-any.whl\n",
            "Requirement already satisfied: markdown>=2.6.8 in /usr/local/lib/python3.6/dist-packages (from tensorflow-tensorboard<0.5.0,>=0.4.0rc1->tensorflow==1.4->-r pregel/requirements.txt (line 1)) (2.6.11)\n",
            "Building wheels for collected packages: networkx, seaborn, docopt, munch, jsonpickle, wrapt, html5lib\n",
            "  Running setup.py bdist_wheel for networkx ... \u001b[?25l-\b \b\\\b \b|\b \b/\b \b-\b \b\\\b \b|\b \b/\b \bdone\n",
            "\u001b[?25h  Stored in directory: /root/.cache/pip/wheels/87/09/8b/4bbd744c97888c475862097465876a0f8fd0a5f35fd24fca4a\n",
            "  Running setup.py bdist_wheel for seaborn ... \u001b[?25l-\b \b\\\b \bdone\n",
            "\u001b[?25h  Stored in directory: /root/.cache/pip/wheels/b7/e2/7c/d1ccdc7fb363b040901ad9414a86aa3823c5931e20bedbab46\n",
            "  Running setup.py bdist_wheel for docopt ... \u001b[?25l-\b \bdone\n",
            "\u001b[?25h  Stored in directory: /root/.cache/pip/wheels/9b/04/dd/7daf4150b6d9b12949298737de9431a324d4b797ffd63f526e\n",
            "  Running setup.py bdist_wheel for munch ... \u001b[?25l-\b \bdone\n",
            "\u001b[?25h  Stored in directory: /root/.cache/pip/wheels/db/bf/bc/06a3e1bfe0ab27d2e720ceb3cff3159398d92644c0cec2c125\n",
            "  Running setup.py bdist_wheel for jsonpickle ... \u001b[?25l-\b \b\\\b \bdone\n",
            "\u001b[?25h  Stored in directory: /root/.cache/pip/wheels/07/8b/41/8ce98f4737a9ff61b1bf2673f2abfe66a6a43ad6e91d2c9736\n",
            "  Running setup.py bdist_wheel for wrapt ... \u001b[?25l-\b \b\\\b \b|\b \bdone\n",
            "\u001b[?25h  Stored in directory: /root/.cache/pip/wheels/48/5d/04/22361a593e70d23b1f7746d932802efe1f0e523376a74f321e\n",
            "  Running setup.py bdist_wheel for html5lib ... \u001b[?25l-\b \b\\\b \bdone\n",
            "\u001b[?25h  Stored in directory: /root/.cache/pip/wheels/50/ae/f9/d2b189788efcf61d1ee0e36045476735c838898eef1cad6e29\n",
            "Successfully built networkx seaborn docopt munch jsonpickle wrapt html5lib\n",
            "Installing collected packages: enum34, numpy, html5lib, bleach, tensorflow-tensorboard, tensorflow, tensorflow-gpu, networkx, scipy, scikit-learn, matplotlib, seaborn, docopt, munch, jsonpickle, wrapt, sacred\n",
            "  Found existing installation: numpy 1.14.5\n",
            "    Uninstalling numpy-1.14.5:\n",
            "      Successfully uninstalled numpy-1.14.5\n",
            "  Found existing installation: html5lib 1.0.1\n",
            "    Uninstalling html5lib-1.0.1:\n",
            "      Successfully uninstalled html5lib-1.0.1\n",
            "  Found existing installation: bleach 2.1.4\n",
            "    Uninstalling bleach-2.1.4:\n",
            "      Successfully uninstalled bleach-2.1.4\n",
            "  Found existing installation: tensorflow 1.10.1\n",
            "    Uninstalling tensorflow-1.10.1:\n",
            "      Successfully uninstalled tensorflow-1.10.1\n",
            "  Found existing installation: networkx 2.1\n",
            "    Uninstalling networkx-2.1:\n",
            "      Successfully uninstalled networkx-2.1\n",
            "  Found existing installation: scipy 0.19.1\n",
            "    Uninstalling scipy-0.19.1:\n",
            "      Successfully uninstalled scipy-0.19.1\n",
            "  Found existing installation: scikit-learn 0.19.2\n",
            "    Uninstalling scikit-learn-0.19.2:\n",
            "      Successfully uninstalled scikit-learn-0.19.2\n",
            "  Found existing installation: matplotlib 2.1.2\n",
            "    Uninstalling matplotlib-2.1.2:\n",
            "      Successfully uninstalled matplotlib-2.1.2\n",
            "  Found existing installation: seaborn 0.7.1\n",
            "    Uninstalling seaborn-0.7.1:\n",
            "      Successfully uninstalled seaborn-0.7.1\n",
            "Successfully installed bleach-1.5.0 docopt-0.6.2 enum34-1.1.6 html5lib-0.9999999 jsonpickle-0.9.6 matplotlib-2.1.0 munch-2.3.2 networkx-2.0 numpy-1.13.0 sacred-0.7.0 scikit-learn-0.19.0 scipy-1.0.0 seaborn-0.8 tensorflow-1.4.0 tensorflow-gpu-1.4.0 tensorflow-tensorboard-0.4.0 wrapt-1.10.11\n"
          ],
          "name": "stdout"
        }
      ]
    },
    {
      "metadata": {
        "id": "eX1JHVlPaQtg",
        "colab_type": "code",
        "colab": {
          "base_uri": "https://localhost:8080/",
          "height": 34
        },
        "outputId": "d0308fe3-7793-4417-88eb-a8c7db77092e"
      },
      "cell_type": "code",
      "source": [
        "!vi pregel/main.py"
      ],
      "execution_count": 6,
      "outputs": [
        {
          "output_type": "stream",
          "text": [
            "/bin/sh: 1: vi: not found\r\n"
          ],
          "name": "stdout"
        }
      ]
    },
    {
      "metadata": {
        "id": "K03aICO8bFjP",
        "colab_type": "code",
        "colab": {}
      },
      "cell_type": "code",
      "source": [
        "!mv main.py pregel/"
      ],
      "execution_count": 0,
      "outputs": []
    },
    {
      "metadata": {
        "id": "G-SzpcLxbhQ5",
        "colab_type": "code",
        "colab": {
          "base_uri": "https://localhost:8080/",
          "height": 649
        },
        "outputId": "caac214b-d061-4bb8-d252-6032e9e3f39a"
      },
      "cell_type": "code",
      "source": [
        "!python pregel/main.py"
      ],
      "execution_count": 3,
      "outputs": [
        {
          "output_type": "stream",
          "text": [
            "/usr/lib/python3.6/importlib/_bootstrap.py:219: RuntimeWarning: compiletime version 3.5 of module 'tensorflow.python.framework.fast_tensor_util' does not match runtime version 3.6\r\n",
            "  return f(*args, **kwds)\n",
            "WARNING - test - No observers have been added to this run\n",
            "INFO - test - Running command 'run'\n",
            "INFO - test - Started\n",
            "Reading data from data\n",
            "ERROR - test - Failed after 0:00:00!\n",
            "Traceback (most recent calls WITHOUT Sacred internals):\n",
            "  File \"pregel/main.py\", line 56, in run\n",
            "    experiment = ex)\n",
            "  File \"/content/pregel/app/app/train_classifier.py\", line 14, in run\n",
            "    dataset_name=dataset_name)\n",
            "  File \"/content/pregel/app/ds/data_pipeline.py\", line 15, in __init__\n",
            "    self._populate_graph(model_params, data_dir, dataset_name)\n",
            "  File \"/content/pregel/app/ds/data_pipeline.py\", line 33, in _populate_graph\n",
            "    self.graph.read_data(data_dir=data_dir, dataset_name=dataset_name)\n",
            "  File \"/content/pregel/app/ds/graph/preprocessed_graph.py\", line 29, in read_data\n",
            "    with open(\"{}/{}/ind.{}.{}\".format(data_dir, dataset_name, dataset_name, names[i]), 'rb') as f:\n",
            "FileNotFoundError: [Errno 2] No such file or directory: 'data/citeseer/ind.citeseer.x'\n",
            "Reading data from data\n",
            "Traceback (most recent call last):\n",
            "  File \"pregel/main.py\", line 64, in <module>\n",
            "    run()\n",
            "  File \"/usr/local/lib/python3.6/dist-packages/sacred/config/captured_function.py\", line 47, in captured_function\n",
            "    result = wrapped(*args, **kwargs)\n",
            "  File \"pregel/main.py\", line 56, in run\n",
            "    experiment = ex)\n",
            "  File \"/content/pregel/app/app/train_classifier.py\", line 14, in run\n",
            "    dataset_name=dataset_name)\n",
            "  File \"/content/pregel/app/ds/data_pipeline.py\", line 15, in __init__\n",
            "    self._populate_graph(model_params, data_dir, dataset_name)\n",
            "  File \"/content/pregel/app/ds/data_pipeline.py\", line 33, in _populate_graph\n",
            "    self.graph.read_data(data_dir=data_dir, dataset_name=dataset_name)\n",
            "  File \"/content/pregel/app/ds/graph/preprocessed_graph.py\", line 29, in read_data\n",
            "    with open(\"{}/{}/ind.{}.{}\".format(data_dir, dataset_name, dataset_name, names[i]), 'rb') as f:\n",
            "FileNotFoundError: [Errno 2] No such file or directory: 'data/citeseer/ind.citeseer.x'\n"
          ],
          "name": "stdout"
        }
      ]
    },
    {
      "metadata": {
        "id": "0g9G0IrTbsmw",
        "colab_type": "code",
        "colab": {
          "base_uri": "https://localhost:8080/",
          "height": 2077
        },
        "outputId": "6ea72f1f-1e2f-4586-f0d2-d47640430d22"
      },
      "cell_type": "code",
      "source": [
        "!cd pregel && python main.py"
      ],
      "execution_count": 8,
      "outputs": [
        {
          "output_type": "stream",
          "text": [
            "/usr/lib/python3.6/importlib/_bootstrap.py:219: RuntimeWarning: compiletime version 3.5 of module 'tensorflow.python.framework.fast_tensor_util' does not match runtime version 3.6\r\n",
            "  return f(*args, **kwds)\n",
            "WARNING - test - No observers have been added to this run\n",
            "INFO - test - Running command 'run'\n",
            "INFO - test - Started\n",
            "Reading data from data\n",
            "Reading data from data\n",
            "2018-09-03 12:43:15.663937: I tensorflow/core/platform/cpu_feature_guard.cc:137] Your CPU supports instructions that this TensorFlow binary was not compiled to use: SSE4.1 SSE4.2 AVX AVX2 FMA\n",
            "2018-09-03 12:43:15.766164: I tensorflow/stream_executor/cuda/cuda_gpu_executor.cc:892] successful NUMA node read from SysFS had negative value (-1), but there must be at least one NUMA node, so returning NUMA node zero\n",
            "2018-09-03 12:43:15.766630: I tensorflow/core/common_runtime/gpu/gpu_device.cc:1030] Found device 0 with properties: \n",
            "name: Tesla K80 major: 3 minor: 7 memoryClockRate(GHz): 0.8235\n",
            "pciBusID: 0000:00:04.0\n",
            "totalMemory: 11.17GiB freeMemory: 11.10GiB\n",
            "2018-09-03 12:43:15.766678: I tensorflow/core/common_runtime/gpu/gpu_device.cc:1120] Creating TensorFlow device (/device:GPU:0) -> (device: 0, name: Tesla K80, pci bus id: 0000:00:04.0, compute capability: 3.7)\n",
            "/usr/local/lib/python3.6/dist-packages/seaborn/timeseries.py:183: UserWarning: The tsplot function is deprecated and will be removed or replaced (in a substantially altered version) in a future release.\n",
            "  warnings.warn(msg, UserWarning)\n",
            "Training loss after 5 epochs, averaged over 1 runs = 1.2335339784622192\n",
            "Validation loss after 5 epochs, averaged over 1 runs = 1.4799439907073975\n",
            "accuracy over test data after fitting, averaged over 1 runs = 0.45899999141693115\n",
            "INFO - test - Completed after 0:01:29\n",
            "Reading data from data\n",
            "Reading data from data\n",
            "2018-09-03 12:44:44.464485: I tensorflow/core/common_runtime/gpu/gpu_device.cc:1120] Creating TensorFlow device (/device:GPU:0) -> (device: 0, name: Tesla K80, pci bus id: 0000:00:04.0, compute capability: 3.7)\n",
            "2018-09-03 12:44:44.792629: W tensorflow/core/framework/op_kernel.cc:1192] Invalid argument: You must feed a value for placeholder tensor 'labels' with dtype int32 and shape [?,6]\n",
            "\t [[Node: labels = Placeholder[dtype=DT_INT32, shape=[?,6], _device=\"/job:localhost/replica:0/task:0/device:GPU:0\"]()]]\n",
            "2018-09-03 12:44:44.792860: W tensorflow/core/framework/op_kernel.cc:1192] Invalid argument: You must feed a value for placeholder tensor 'labels' with dtype int32 and shape [?,6]\n",
            "\t [[Node: labels = Placeholder[dtype=DT_INT32, shape=[?,6], _device=\"/job:localhost/replica:0/task:0/device:GPU:0\"]()]]\n",
            "2018-09-03 12:44:44.792935: W tensorflow/core/framework/op_kernel.cc:1192] Invalid argument: You must feed a value for placeholder tensor 'labels' with dtype int32 and shape [?,6]\n",
            "\t [[Node: labels = Placeholder[dtype=DT_INT32, shape=[?,6], _device=\"/job:localhost/replica:0/task:0/device:GPU:0\"]()]]\n",
            "2018-09-03 12:44:44.793618: W tensorflow/core/framework/op_kernel.cc:1192] Invalid argument: You must feed a value for placeholder tensor 'labels' with dtype int32 and shape [?,6]\n",
            "\t [[Node: labels = Placeholder[dtype=DT_INT32, shape=[?,6], _device=\"/job:localhost/replica:0/task:0/device:GPU:0\"]()]]\n",
            "2018-09-03 12:44:44.793539: W tensorflow/core/framework/op_kernel.cc:1192] Invalid argument: You must feed a value for placeholder tensor 'labels' with dtype int32 and shape [?,6]\n",
            "\t [[Node: labels = Placeholder[dtype=DT_INT32, shape=[?,6], _device=\"/job:localhost/replica:0/task:0/device:GPU:0\"]()]]\n",
            "2018-09-03 12:44:44.793794: W tensorflow/core/framework/op_kernel.cc:1192] Invalid argument: You must feed a value for placeholder tensor 'labels' with dtype int32 and shape [?,6]\n",
            "\t [[Node: labels = Placeholder[dtype=DT_INT32, shape=[?,6], _device=\"/job:localhost/replica:0/task:0/device:GPU:0\"]()]]\n",
            "2018-09-03 12:44:44.793976: W tensorflow/core/framework/op_kernel.cc:1192] Invalid argument: You must feed a value for placeholder tensor 'labels' with dtype int32 and shape [?,6]\n",
            "\t [[Node: labels = Placeholder[dtype=DT_INT32, shape=[?,6], _device=\"/job:localhost/replica:0/task:0/device:GPU:0\"]()]]\n",
            "2018-09-03 12:44:44.794052: W tensorflow/core/framework/op_kernel.cc:1192] Invalid argument: You must feed a value for placeholder tensor 'labels' with dtype int32 and shape [?,6]\n",
            "\t [[Node: labels = Placeholder[dtype=DT_INT32, shape=[?,6], _device=\"/job:localhost/replica:0/task:0/device:GPU:0\"]()]]\n",
            "2018-09-03 12:44:44.794154: W tensorflow/core/framework/op_kernel.cc:1192] Invalid argument: You must feed a value for placeholder tensor 'labels' with dtype int32 and shape [?,6]\n",
            "\t [[Node: labels = Placeholder[dtype=DT_INT32, shape=[?,6], _device=\"/job:localhost/replica:0/task:0/device:GPU:0\"]()]]\n",
            "2018-09-03 12:44:44.794227: W tensorflow/core/framework/op_kernel.cc:1192] Invalid argument: You must feed a value for placeholder tensor 'labels' with dtype int32 and shape [?,6]\n",
            "\t [[Node: labels = Placeholder[dtype=DT_INT32, shape=[?,6], _device=\"/job:localhost/replica:0/task:0/device:GPU:0\"]()]]\n",
            "2018-09-03 12:44:44.794278: W tensorflow/core/framework/op_kernel.cc:1192] Invalid argument: You must feed a value for placeholder tensor 'labels' with dtype int32 and shape [?,6]\n",
            "\t [[Node: labels = Placeholder[dtype=DT_INT32, shape=[?,6], _device=\"/job:localhost/replica:0/task:0/device:GPU:0\"]()]]\n",
            "2018-09-03 12:44:44.794013: W tensorflow/core/framework/op_kernel.cc:1192] Invalid argument: You must feed a value for placeholder tensor 'labels' with dtype int32 and shape [?,6]\n",
            "\t [[Node: labels = Placeholder[dtype=DT_INT32, shape=[?,6], _device=\"/job:localhost/replica:0/task:0/device:GPU:0\"]()]]\n",
            "Traceback (most recent call last):\n",
            "  File \"/usr/local/lib/python3.6/dist-packages/tensorflow/python/client/session.py\", line 1323, in _do_call\n",
            "    return fn(*args)\n",
            "  File \"/usr/local/lib/python3.6/dist-packages/tensorflow/python/client/session.py\", line 1302, in _run_fn\n",
            "    status, run_metadata)\n",
            "  File \"/usr/local/lib/python3.6/dist-packages/tensorflow/python/framework/errors_impl.py\", line 473, in __exit__\n",
            "    c_api.TF_GetCode(self.status.status))\n",
            "tensorflow.python.framework.errors_impl.InvalidArgumentError: You must feed a value for placeholder tensor 'labels' with dtype int32 and shape [?,6]\n",
            "\t [[Node: labels = Placeholder[dtype=DT_INT32, shape=[?,6], _device=\"/job:localhost/replica:0/task:0/device:GPU:0\"]()]]\n",
            "\n",
            "During handling of the above exception, another exception occurred:\n",
            "\n",
            "Traceback (most recent call last):\n",
            "  File \"main.py\", line 64, in <module>\n",
            "    run()\n",
            "  File \"/usr/local/lib/python3.6/dist-packages/sacred/config/captured_function.py\", line 47, in captured_function\n",
            "    result = wrapped(*args, **kwargs)\n",
            "  File \"main.py\", line 56, in run\n",
            "    experiment = ex)\n",
            "  File \"/content/pregel/app/app/train_classifier.py\", line 64, in run\n",
            "    feed_dict=feed_dict_train)\n",
            "  File \"/usr/local/lib/python3.6/dist-packages/tensorflow/python/client/session.py\", line 889, in run\n",
            "    run_metadata_ptr)\n",
            "  File \"/usr/local/lib/python3.6/dist-packages/tensorflow/python/client/session.py\", line 1120, in _run\n",
            "    feed_dict_tensor, options, run_metadata)\n",
            "  File \"/usr/local/lib/python3.6/dist-packages/tensorflow/python/client/session.py\", line 1317, in _do_run\n",
            "    options, run_metadata)\n",
            "  File \"/usr/local/lib/python3.6/dist-packages/tensorflow/python/client/session.py\", line 1336, in _do_call\n",
            "    raise type(e)(node_def, op, message)\n",
            "tensorflow.python.framework.errors_impl.InvalidArgumentError: You must feed a value for placeholder tensor 'labels' with dtype int32 and shape [?,6]\n",
            "\t [[Node: labels = Placeholder[dtype=DT_INT32, shape=[?,6], _device=\"/job:localhost/replica:0/task:0/device:GPU:0\"]()]]\n",
            "\n",
            "Caused by op 'labels', defined at:\n",
            "  File \"main.py\", line 50, in <module>\n",
            "    @ex.automain\n",
            "  File \"/usr/local/lib/python3.6/dist-packages/sacred/experiment.py\", line 130, in automain\n",
            "    self.run_commandline()\n",
            "  File \"/usr/local/lib/python3.6/dist-packages/sacred/experiment.py\", line 242, in run_commandline\n",
            "    return self.run(cmd_name, config_updates, named_configs, {}, args)\n",
            "  File \"/usr/local/lib/python3.6/dist-packages/sacred/experiment.py\", line 187, in run\n",
            "    run()\n",
            "  File \"/usr/local/lib/python3.6/dist-packages/sacred/run.py\", line 223, in __call__\n",
            "    self.result = self.main_function(*args)\n",
            "  File \"/usr/local/lib/python3.6/dist-packages/sacred/config/captured_function.py\", line 47, in captured_function\n",
            "    result = wrapped(*args, **kwargs)\n",
            "  File \"main.py\", line 56, in run\n",
            "    experiment = ex)\n",
            "  File \"/content/pregel/app/app/train_classifier.py\", line 14, in run\n",
            "    dataset_name=dataset_name)\n",
            "  File \"/content/pregel/app/ds/data_pipeline.py\", line 29, in __init__\n",
            "    self._populate_feed_dicts()\n",
            "  File \"/content/pregel/app/ds/data_pipeline.py\", line 124, in _populate_feed_dicts\n",
            "    [train_index, val_index, test_index]] = self._prepare_data(dataset_splits=dataset_splits)\n",
            "  File \"/content/pregel/app/ds/data_pipeline.py\", line 116, in _prepare_data\n",
            "    shuffle_data=shuffle_data)\n",
            "  File \"/content/pregel/app/ds/data_pipeline.py\", line 81, in _prepare_data_node_classifier\n",
            "    self._set_placeholder_dict()\n",
            "  File \"/content/pregel/app/ds/data_pipeline.py\", line 40, in _set_placeholder_dict\n",
            "    labels_placeholder = tf.placeholder(tf.int32, shape=(None, self.label_size), name=LABELS)\n",
            "  File \"/usr/local/lib/python3.6/dist-packages/tensorflow/python/ops/array_ops.py\", line 1599, in placeholder\n",
            "    return gen_array_ops._placeholder(dtype=dtype, shape=shape, name=name)\n",
            "  File \"/usr/local/lib/python3.6/dist-packages/tensorflow/python/ops/gen_array_ops.py\", line 3091, in _placeholder\n",
            "    \"Placeholder\", dtype=dtype, shape=shape, name=name)\n",
            "  File \"/usr/local/lib/python3.6/dist-packages/tensorflow/python/framework/op_def_library.py\", line 787, in _apply_op_helper\n",
            "    op_def=op_def)\n",
            "  File \"/usr/local/lib/python3.6/dist-packages/tensorflow/python/framework/ops.py\", line 2956, in create_op\n",
            "    op_def=op_def)\n",
            "  File \"/usr/local/lib/python3.6/dist-packages/tensorflow/python/framework/ops.py\", line 1470, in __init__\n",
            "    self._traceback = self._graph._extract_stack()  # pylint: disable=protected-access\n",
            "\n",
            "InvalidArgumentError (see above for traceback): You must feed a value for placeholder tensor 'labels' with dtype int32 and shape [?,6]\n",
            "\t [[Node: labels = Placeholder[dtype=DT_INT32, shape=[?,6], _device=\"/job:localhost/replica:0/task:0/device:GPU:0\"]()]]\n",
            "\n"
          ],
          "name": "stdout"
        }
      ]
    },
    {
      "metadata": {
        "id": "eDr_B_rxdU6y",
        "colab_type": "code",
        "colab": {
          "base_uri": "https://localhost:8080/",
          "height": 34
        },
        "outputId": "7fc55c6b-f48e-4ede-b05f-03b4e7ae0e0a"
      },
      "cell_type": "code",
      "source": [
        "!git clone https://github.com/lazyprogrammer/machine_learning_examples"
      ],
      "execution_count": 11,
      "outputs": [
        {
          "output_type": "stream",
          "text": [
            "fatal: destination path 'machine_learning_examples' already exists and is not an empty directory.\r\n"
          ],
          "name": "stdout"
        }
      ]
    },
    {
      "metadata": {
        "id": "3b2f94HlhYML",
        "colab_type": "code",
        "colab": {}
      },
      "cell_type": "code",
      "source": [
        "!cd machine_learning_examples/numpy_class"
      ],
      "execution_count": 0,
      "outputs": []
    },
    {
      "metadata": {
        "id": "GqrZ33mmiWhn",
        "colab_type": "code",
        "colab": {}
      },
      "cell_type": "code",
      "source": [
        "#@title Default title text\n",
        "!cd machine_learning_examples/numpy_class && python classification_example.py"
      ],
      "execution_count": 0,
      "outputs": []
    },
    {
      "metadata": {
        "id": "BGdr8eDMr1Nn",
        "colab_type": "code",
        "colab": {
          "base_uri": "https://localhost:8080/",
          "height": 734
        },
        "outputId": "5fd425ca-9beb-469b-fce9-ba40839f4bfc"
      },
      "cell_type": "code",
      "source": [
        "!pip install gensim"
      ],
      "execution_count": 23,
      "outputs": [
        {
          "output_type": "stream",
          "text": [
            "Collecting gensim\n",
            "\u001b[?25l  Downloading https://files.pythonhosted.org/packages/86/f3/37504f07651330ddfdefa631ca5246974a60d0908216539efda842fd080f/gensim-3.5.0-cp36-cp36m-manylinux1_x86_64.whl (23.5MB)\n",
            "\u001b[K    100% |████████████████████████████████| 23.5MB 1.5MB/s \n",
            "\u001b[?25hCollecting smart-open>=1.2.1 (from gensim)\n",
            "  Downloading https://files.pythonhosted.org/packages/cf/3d/5f3a9a296d0ba8e00e263a8dee76762076b9eb5ddc254ccaa834651c8d65/smart_open-1.6.0.tar.gz\n",
            "Requirement already satisfied: numpy>=1.11.3 in /usr/local/lib/python3.6/dist-packages (from gensim) (1.13.0)\n",
            "Requirement already satisfied: six>=1.5.0 in /usr/local/lib/python3.6/dist-packages (from gensim) (1.11.0)\n",
            "Requirement already satisfied: scipy>=0.18.1 in /usr/local/lib/python3.6/dist-packages (from gensim) (1.0.0)\n",
            "Collecting boto>=2.32 (from smart-open>=1.2.1->gensim)\n",
            "\u001b[?25l  Downloading https://files.pythonhosted.org/packages/23/10/c0b78c27298029e4454a472a1919bde20cb182dab1662cec7f2ca1dcc523/boto-2.49.0-py2.py3-none-any.whl (1.4MB)\n",
            "\u001b[K    100% |████████████████████████████████| 1.4MB 12.3MB/s \n",
            "\u001b[?25hCollecting bz2file (from smart-open>=1.2.1->gensim)\n",
            "  Downloading https://files.pythonhosted.org/packages/61/39/122222b5e85cd41c391b68a99ee296584b2a2d1d233e7ee32b4532384f2d/bz2file-0.98.tar.gz\n",
            "Requirement already satisfied: requests in /usr/local/lib/python3.6/dist-packages (from smart-open>=1.2.1->gensim) (2.18.4)\n",
            "Collecting boto3 (from smart-open>=1.2.1->gensim)\n",
            "\u001b[?25l  Downloading https://files.pythonhosted.org/packages/a8/45/810f786ce144bfd19d9f2f700a8cd4358435559a2b88b2c235f7bb3f29df/boto3-1.8.6-py2.py3-none-any.whl (128kB)\n",
            "\u001b[K    100% |████████████████████████████████| 133kB 22.0MB/s \n",
            "\u001b[?25hRequirement already satisfied: urllib3<1.23,>=1.21.1 in /usr/local/lib/python3.6/dist-packages (from requests->smart-open>=1.2.1->gensim) (1.22)\n",
            "Requirement already satisfied: idna<2.7,>=2.5 in /usr/local/lib/python3.6/dist-packages (from requests->smart-open>=1.2.1->gensim) (2.6)\n",
            "Requirement already satisfied: chardet<3.1.0,>=3.0.2 in /usr/local/lib/python3.6/dist-packages (from requests->smart-open>=1.2.1->gensim) (3.0.4)\n",
            "Requirement already satisfied: certifi>=2017.4.17 in /usr/local/lib/python3.6/dist-packages (from requests->smart-open>=1.2.1->gensim) (2018.8.24)\n",
            "Collecting botocore<1.12.0,>=1.11.6 (from boto3->smart-open>=1.2.1->gensim)\n",
            "\u001b[?25l  Downloading https://files.pythonhosted.org/packages/52/86/73e2825c9f452f6ea7ebbd715aa4621eb1f5d5e51e37cd2019437535909c/botocore-1.11.6-py2.py3-none-any.whl (4.6MB)\n",
            "\u001b[K    100% |████████████████████████████████| 4.6MB 5.2MB/s \n",
            "\u001b[?25hCollecting jmespath<1.0.0,>=0.7.1 (from boto3->smart-open>=1.2.1->gensim)\n",
            "  Downloading https://files.pythonhosted.org/packages/b7/31/05c8d001f7f87f0f07289a5fc0fc3832e9a57f2dbd4d3b0fee70e0d51365/jmespath-0.9.3-py2.py3-none-any.whl\n",
            "Collecting s3transfer<0.2.0,>=0.1.10 (from boto3->smart-open>=1.2.1->gensim)\n",
            "\u001b[?25l  Downloading https://files.pythonhosted.org/packages/d7/14/2a0004d487464d120c9fb85313a75cd3d71a7506955be458eebfe19a6b1d/s3transfer-0.1.13-py2.py3-none-any.whl (59kB)\n",
            "\u001b[K    100% |████████████████████████████████| 61kB 18.8MB/s \n",
            "\u001b[?25hCollecting docutils>=0.10 (from botocore<1.12.0,>=1.11.6->boto3->smart-open>=1.2.1->gensim)\n",
            "\u001b[?25l  Downloading https://files.pythonhosted.org/packages/36/fa/08e9e6e0e3cbd1d362c3bbee8d01d0aedb2155c4ac112b19ef3cae8eed8d/docutils-0.14-py3-none-any.whl (543kB)\n",
            "\u001b[K    100% |████████████████████████████████| 552kB 20.4MB/s \n",
            "\u001b[?25hRequirement already satisfied: python-dateutil<3.0.0,>=2.1; python_version >= \"2.7\" in /usr/local/lib/python3.6/dist-packages (from botocore<1.12.0,>=1.11.6->boto3->smart-open>=1.2.1->gensim) (2.5.3)\n",
            "Building wheels for collected packages: smart-open, bz2file\n",
            "  Running setup.py bdist_wheel for smart-open ... \u001b[?25l-\b \b\\\b \bdone\n",
            "\u001b[?25h  Stored in directory: /root/.cache/pip/wheels/73/f1/9b/ccf93d4ba073b6f79b1ed9df68ab5ce048d8136d0efcf90b30\n",
            "  Running setup.py bdist_wheel for bz2file ... \u001b[?25l-\b \bdone\n",
            "\u001b[?25h  Stored in directory: /root/.cache/pip/wheels/81/75/d6/e1317bf09bf1af5a30befc2a007869fa6e1f516b8f7c591cb9\n",
            "Successfully built smart-open bz2file\n",
            "Installing collected packages: boto, bz2file, jmespath, docutils, botocore, s3transfer, boto3, smart-open, gensim\n",
            "Successfully installed boto-2.49.0 boto3-1.8.6 botocore-1.11.6 bz2file-0.98 docutils-0.14 gensim-3.5.0 jmespath-0.9.3 s3transfer-0.1.13 smart-open-1.6.0\n"
          ],
          "name": "stdout"
        }
      ]
    },
    {
      "metadata": {
        "id": "NseukZWWpPs_",
        "colab_type": "code",
        "colab": {
          "base_uri": "https://localhost:8080/",
          "height": 289
        },
        "outputId": "68593d3e-050f-4d6c-9bc9-20ccac730e08"
      },
      "cell_type": "code",
      "source": [
        "!cd machine_learning_examples/nlp_class2 && python bow_classifier.py"
      ],
      "execution_count": 24,
      "outputs": [
        {
          "output_type": "stream",
          "text": [
            "Traceback (most recent call last):\r\n",
            "  File \"bow_classifier.py\", line 20, in <module>\r\n",
            "    train = pd.read_csv('../large_files/r8-train-all-terms.txt', header=None, sep='\\t')\r\n",
            "  File \"/usr/local/lib/python3.6/dist-packages/pandas/io/parsers.py\", line 709, in parser_f\r\n",
            "    return _read(filepath_or_buffer, kwds)\r\n",
            "  File \"/usr/local/lib/python3.6/dist-packages/pandas/io/parsers.py\", line 449, in _read\r\n",
            "    parser = TextFileReader(filepath_or_buffer, **kwds)\r\n",
            "  File \"/usr/local/lib/python3.6/dist-packages/pandas/io/parsers.py\", line 818, in __init__\r\n",
            "    self._make_engine(self.engine)\r\n",
            "  File \"/usr/local/lib/python3.6/dist-packages/pandas/io/parsers.py\", line 1049, in _make_engine\r\n",
            "    self._engine = CParserWrapper(self.f, **self.options)\r\n",
            "  File \"/usr/local/lib/python3.6/dist-packages/pandas/io/parsers.py\", line 1695, in __init__\r\n",
            "    self._reader = parsers.TextReader(src, **kwds)\r\n",
            "  File \"pandas/_libs/parsers.pyx\", line 402, in pandas._libs.parsers.TextReader.__cinit__\r\n",
            "  File \"pandas/_libs/parsers.pyx\", line 718, in pandas._libs.parsers.TextReader._setup_parser_source\r\n",
            "FileNotFoundError: File b'../large_files/r8-train-all-terms.txt' does not exist\r\n"
          ],
          "name": "stdout"
        }
      ]
    },
    {
      "metadata": {
        "id": "OzAiQ5t8i_nu",
        "colab_type": "text"
      },
      "cell_type": "markdown",
      "source": [
        ""
      ]
    },
    {
      "metadata": {
        "id": "v2Kx-d96hsKI",
        "colab_type": "code",
        "colab": {}
      },
      "cell_type": "code",
      "source": [
        ""
      ],
      "execution_count": 0,
      "outputs": []
    }
  ]
}